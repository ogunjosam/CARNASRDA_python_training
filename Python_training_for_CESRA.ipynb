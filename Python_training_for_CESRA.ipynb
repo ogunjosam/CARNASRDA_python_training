{
  "nbformat": 4,
  "nbformat_minor": 0,
  "metadata": {
    "colab": {
      "provenance": [],
      "authorship_tag": "ABX9TyPIbaaWlk0vo2ijtuhBUXis",
      "include_colab_link": true
    },
    "kernelspec": {
      "name": "python3",
      "display_name": "Python 3"
    },
    "language_info": {
      "name": "python"
    }
  },
  "cells": [
    {
      "cell_type": "markdown",
      "metadata": {
        "id": "view-in-github",
        "colab_type": "text"
      },
      "source": [
        "<a href=\"https://colab.research.google.com/github/ogunjosam/CARNASRDA_python_training/blob/main/Python_training_for_CESRA.ipynb\" target=\"_parent\"><img src=\"https://colab.research.google.com/assets/colab-badge.svg\" alt=\"Open In Colab\"/></a>"
      ]
    },
    {
      "cell_type": "markdown",
      "source": [
        "# OUTLINE\n",
        "\n",
        "## Data storage\n",
        "\n",
        "*   Zenodo\n",
        "*   Google drive\n",
        "*   Github\n",
        "*   Kaggle\n",
        "\n",
        "## Basic python\n",
        "- Data structure\n",
        "- Packages - Part 1 (numpy, pandas, matplotlib, ...)\n",
        "- Importing data - .csv, .nc, others; github, website\n",
        "- Control structures: if-else, for loop,\n",
        "- Functions\n",
        "- Packages - Part 2 - Installation, understanding\n",
        "- plotting\n",
        "\n",
        "## Machine Learning\n",
        "- Introduction to machine learning\n",
        "- Hands-on experience with ML\n",
        "  - Classification example\n",
        "  - regression example\n",
        "\n",
        "\n",
        "\n",
        "\n"
      ],
      "metadata": {
        "id": "F9OAOlLZVg0o"
      }
    },
    {
      "cell_type": "markdown",
      "source": [
        "### Data structure"
      ],
      "metadata": {
        "id": "skxl1DrTYeWO"
      }
    },
    {
      "cell_type": "code",
      "execution_count": 7,
      "metadata": {
        "id": "Nj6rdA1tVgQ9",
        "colab": {
          "base_uri": "https://localhost:8080/"
        },
        "outputId": "ad712580-be3b-4cf6-cace-b4a766900e94"
      },
      "outputs": [
        {
          "output_type": "execute_result",
          "data": {
            "text/plain": [
              "[1, 'one', 2, 'two', [3, 'three', 4, 'four']]"
            ]
          },
          "metadata": {},
          "execution_count": 7
        }
      ],
      "source": [
        "# Data structure\n",
        "aa = [1,'one',2,'two']  # list\n",
        "ab = [3,'three',4,'four']\n",
        "bb = (1,'one',2,'two')  # set\n",
        "cc = {'one':1,'two':2}  # dictionary\n",
        "\n",
        "cc['one']\n",
        "##"
      ]
    }
  ]
}